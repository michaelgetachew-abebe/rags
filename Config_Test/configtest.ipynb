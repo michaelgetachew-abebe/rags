{
 "cells": [
  {
   "cell_type": "code",
   "execution_count": 1,
   "id": "7c032237-713f-4588-8aa7-e0de7d0f5f7e",
   "metadata": {},
   "outputs": [],
   "source": [
    "from openai import OpenAI"
   ]
  },
  {
   "cell_type": "code",
   "execution_count": 2,
   "id": "469c74c0-a607-45c8-aabc-497cd0f07fb5",
   "metadata": {},
   "outputs": [],
   "source": [
    "client = OpenAI()"
   ]
  },
  {
   "cell_type": "code",
   "execution_count": 6,
   "id": "343f0918-092c-4397-b175-6350d883ddda",
   "metadata": {},
   "outputs": [],
   "source": [
    "response = client.chat.completions.create(\n",
    "    model='gpt-3.5-turbo',\n",
    "    messages = [{\"role\": \"user\", \"content\": \"Why are there places on earth with 6 months of dark and 6 months of light?\"}])"
   ]
  },
  {
   "cell_type": "code",
   "execution_count": 7,
   "id": "61be408e-63eb-4d9d-904c-28cc790d3204",
   "metadata": {},
   "outputs": [
    {
     "data": {
      "text/plain": [
       "ChatCompletion(id='chatcmpl-9jXQ7tKkhHGsOZWlg0rEbVXYr4EO5', choices=[Choice(finish_reason='stop', index=0, logprobs=None, message=ChatCompletionMessage(content=\"The continuous daylight and darkness in certain regions of the world are due to the tilt of the Earth's axis. The Earth is tilted on its axis at an angle of about 23.5 degrees. This means that as the Earth orbits the sun, different parts of the planet receive varying amounts of sunlight throughout the year.\\n\\nIn regions near the poles, such as the North and South Poles, the tilt of the Earth's axis causes the sun to remain above or below the horizon for extended periods of time. During the summer months, these areas experience continuous daylight as the sun does not set, while in the winter months, they experience continuous darkness as the sun does not rise above the horizon.\\n\\nThis phenomenon is known as the polar day and polar night and occurs because of the way sunlight is distributed on the tilted Earth's surface as it orbits the sun. The closer a region is to the pole, the more extreme the variation between daylight and darkness becomes.\", role='assistant', function_call=None, tool_calls=None))], created=1720640255, model='gpt-3.5-turbo-0125', object='chat.completion', service_tier=None, system_fingerprint=None, usage=CompletionUsage(completion_tokens=191, prompt_tokens=26, total_tokens=217))"
      ]
     },
     "execution_count": 7,
     "metadata": {},
     "output_type": "execute_result"
    }
   ],
   "source": [
    "response"
   ]
  },
  {
   "cell_type": "code",
   "execution_count": 15,
   "id": "e66cb871-8bea-4934-8c6f-cb433e86441e",
   "metadata": {},
   "outputs": [
    {
     "data": {
      "text/plain": [
       "\"The continuous daylight and darkness in certain regions of the world are due to the tilt of the Earth's axis. The Earth is tilted on its axis at an angle of about 23.5 degrees. This means that as the Earth orbits the sun, different parts of the planet receive varying amounts of sunlight throughout the year.\\n\\nIn regions near the poles, such as the North and South Poles, the tilt of the Earth's axis causes the sun to remain above or below the horizon for extended periods of time. During the summer months, these areas experience continuous daylight as the sun does not set, while in the winter months, they experience continuous darkness as the sun does not rise above the horizon.\\n\\nThis phenomenon is known as the polar day and polar night and occurs because of the way sunlight is distributed on the tilted Earth's surface as it orbits the sun. The closer a region is to the pole, the more extreme the variation between daylight and darkness becomes.\""
      ]
     },
     "execution_count": 15,
     "metadata": {},
     "output_type": "execute_result"
    }
   ],
   "source": [
    "# Real Response\n",
    "response.choices[0].message.content"
   ]
  }
 ],
 "metadata": {
  "kernelspec": {
   "display_name": "Python 3 (ipykernel)",
   "language": "python",
   "name": "python3"
  },
  "language_info": {
   "codemirror_mode": {
    "name": "ipython",
    "version": 3
   },
   "file_extension": ".py",
   "mimetype": "text/x-python",
   "name": "python",
   "nbconvert_exporter": "python",
   "pygments_lexer": "ipython3",
   "version": "3.10.13"
  }
 },
 "nbformat": 4,
 "nbformat_minor": 5
}
